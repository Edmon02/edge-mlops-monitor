{
 "cells": [
  {
   "cell_type": "markdown",
   "id": "8553cabd",
   "metadata": {},
   "source": [
    "# Edge MLOps Monitor Demo\n",
    "\n",
    "This notebook demonstrates the Edge MLOps Monitor library in a simulated edge device environment using Google Colab.\n",
    "\n",
    "## Setup\n",
    "\n",
    "First, let's install our library from PyPI:"
   ]
  },
  {
   "cell_type": "code",
   "execution_count": null,
   "id": "34c73ecf",
   "metadata": {},
   "outputs": [],
   "source": [
    "!pip install edge-mlops-monitor scikit-learn pandas numpy matplotlib tqdm"
   ]
  },
  {
   "cell_type": "markdown",
   "id": "183f0887",
   "metadata": {},
   "source": [
    "## Create Configuration\n",
    "\n",
    "Let's create a basic configuration for our monitoring:"
   ]
  },
  {
   "cell_type": "code",
   "execution_count": null,
   "id": "891d285b",
   "metadata": {},
   "outputs": [],
   "source": [
    "%%writefile config.yaml\n",
    "system:\n",
    "  sampling_interval_seconds: 5  # More frequent for demo purposes\n",
    "  max_memory_buffer_mb: 50\n",
    "\n",
    "model_logging:\n",
    "  buffer_size: 1000\n",
    "  log_level: INFO\n",
    "\n",
    "drift_detection:\n",
    "  algorithm: ks_test\n",
    "  threshold: 0.05\n",
    "  window_size: 50  # Size of the sliding window for drift detection\n",
    "  check_frequency: 50  # Check after every 50 predictions\n",
    "  reference_data: {}  # Will be populated with initial predictions\n",
    "\n",
    "telemetry:\n",
    "  upload_interval_seconds: 30  # More frequent for demo\n",
    "  max_batch_size: 100\n",
    "  retry_base_delay_seconds: 1\n",
    "  retry_max_delay_seconds: 60\n",
    "  retry_max_attempts: 5\n",
    "\n",
    "storage:\n",
    "  type: \"sqlite\"\n",
    "  sqlite_path: \"edge_monitor.db\"\n",
    "  max_sqlite_size_mb: 100"
   ]
  },
  {
   "cell_type": "markdown",
   "id": "239e6643",
   "metadata": {},
   "source": [
    "## Create a Simple ML Model\n",
    "\n",
    "Let's create a simple scikit-learn model to simulate an edge device ML model:"
   ]
  },
  {
   "cell_type": "code",
   "execution_count": null,
   "id": "2090dee0",
   "metadata": {},
   "outputs": [],
   "source": [
    "import numpy as np\n",
    "from sklearn.linear_model import LinearRegression\n",
    "\n",
    "# Create synthetic data\n",
    "np.random.seed(42)\n",
    "X = np.random.rand(100, 2)\n",
    "y = 2 * X[:, 0] + 3 * X[:, 1] + np.random.randn(100) * 0.1\n",
    "\n",
    "# Train a simple model\n",
    "model = LinearRegression()\n",
    "model.fit(X, y)\n",
    "\n",
    "print(\"Model trained! Coefficients:\", model.coef_)"
   ]
  },
  {
   "cell_type": "markdown",
   "id": "dad9c54e",
   "metadata": {},
   "source": [
    "## Initialize Edge MLOps Monitor"
   ]
  },
  {
   "cell_type": "code",
   "execution_count": null,
   "id": "92dc8407",
   "metadata": {},
   "outputs": [],
   "source": [
    "from edge_mlops_monitor import EdgeMonitor\n",
    "\n",
    "# Initialize the monitor\n",
    "monitor = EdgeMonitor(config_path=\"config.yaml\")\n",
    "\n",
    "# Start system monitoring in the background\n",
    "monitor.start_system_monitoring()\n",
    "\n",
    "# Verify monitor is running\n",
    "print(\"Monitor initialized successfully!\")\n",
    "print(\"System monitoring started in background.\")\n",
    "print(\"SQLite database path:\", monitor.config['storage']['sqlite_path'])"
   ]
  },
  {
   "cell_type": "markdown",
   "id": "03a441e5",
   "metadata": {},
   "source": [
    "## Simulate Edge Device Predictions\n",
    "\n",
    "Now let's simulate making predictions and monitoring them:"
   ]
  },
  {
   "cell_type": "code",
   "execution_count": null,
   "id": "97142c03",
   "metadata": {},
   "outputs": [],
   "source": [
    "import time\n",
    "from tqdm.notebook import tqdm\n",
    "\n",
    "# Function to simulate predictions\n",
    "def make_prediction(input_data):\n",
    "    # Log the input\n",
    "    input_dict = {\n",
    "        'feature1': float(input_data[0]),\n",
    "        'feature2': float(input_data[1])\n",
    "    }\n",
    "    \n",
    "    # Log the input\n",
    "    input_id = monitor.log_model_input(input_dict)\n",
    "    \n",
    "    # Make prediction\n",
    "    prediction = model.predict([input_data])[0]\n",
    "    \n",
    "    # Add some artificial drift over time\n",
    "    drift_factor = 1.0 + (time.time() % 100) / 1000  # Small increasing drift\n",
    "    prediction *= drift_factor\n",
    "    \n",
    "    # Convert output to dictionary\n",
    "    output_dict = {\n",
    "        'prediction': float(prediction)\n",
    "    }\n",
    "    \n",
    "    # Log the output\n",
    "    monitor.log_model_output(input_id, output_dict)\n",
    "    \n",
    "    return prediction\n",
    "\n",
    "# Simulate predictions over time\n",
    "n_predictions = 200\n",
    "print(f\"Making {n_predictions} predictions...\")\n",
    "\n",
    "for _ in tqdm(range(n_predictions)):\n",
    "    # Generate random input\n",
    "    input_data = np.random.rand(2)\n",
    "    \n",
    "    # Make prediction\n",
    "    prediction = make_prediction(input_data)\n",
    "    \n",
    "    # Simulate some processing time\n",
    "    time.sleep(0.1)  # 100ms between predictions"
   ]
  },
  {
   "cell_type": "markdown",
   "id": "7ac02061",
   "metadata": {},
   "source": [
    "## Check Monitoring Results"
   ]
  },
  {
   "cell_type": "code",
   "execution_count": null,
   "id": "b18d3549",
   "metadata": {},
   "outputs": [],
   "source": [
    "import sqlite3\n",
    "import pandas as pd\n",
    "\n",
    "# Connect to the SQLite database\n",
    "conn = sqlite3.connect('edge_monitor.db')\n",
    "\n",
    "# Get system metrics\n",
    "df_system = pd.read_sql_query(\"SELECT * FROM system_metrics\", conn)\n",
    "print(\"\\nSystem Metrics Summary:\")\n",
    "print(df_system.describe())\n",
    "\n",
    "# Get model inputs/outputs\n",
    "df_model = pd.read_sql_query(\"SELECT * FROM model_io\", conn)\n",
    "print(\"\\nModel I/O Summary:\")\n",
    "print(f\"Total predictions: {len(df_model)}\")\n",
    "\n",
    "# Get drift detection results\n",
    "df_drift = pd.read_sql_query(\"SELECT * FROM drift_detection\", conn)\n",
    "print(\"\\nDrift Detection Results:\")\n",
    "if len(df_drift) > 0:\n",
    "    print(df_drift)\n",
    "else:\n",
    "    print(\"No drift detected yet\")\n",
    "\n",
    "conn.close()"
   ]
  },
  {
   "cell_type": "markdown",
   "id": "a4ed5ba3",
   "metadata": {},
   "source": [
    "## Visualize Monitoring Data"
   ]
  },
  {
   "cell_type": "code",
   "execution_count": null,
   "id": "31b1bc1c",
   "metadata": {},
   "outputs": [],
   "source": [
    "import matplotlib.pyplot as plt\n",
    "\n",
    "# Plot system metrics over time\n",
    "fig, (ax1, ax2) = plt.subplots(2, 1, figsize=(12, 8))\n",
    "\n",
    "ax1.plot(df_system['timestamp'], df_system['cpu_percent'], label='CPU Usage')\n",
    "ax1.set_title('CPU Usage Over Time')\n",
    "ax1.set_xlabel('Timestamp')\n",
    "ax1.set_ylabel('CPU %')\n",
    "ax1.legend()\n",
    "\n",
    "ax2.plot(df_system['timestamp'], df_system['memory_percent'], label='Memory Usage')\n",
    "ax2.set_title('Memory Usage Over Time')\n",
    "ax2.set_xlabel('Timestamp')\n",
    "ax2.set_ylabel('Memory %')\n",
    "ax2.legend()\n",
    "\n",
    "plt.tight_layout()\n",
    "plt.show()"
   ]
  },
  {
   "cell_type": "markdown",
   "id": "828dfcf6",
   "metadata": {},
   "source": [
    "## Cleanup\n",
    "\n",
    "Stop the monitor and clean up:"
   ]
  },
  {
   "cell_type": "code",
   "execution_count": null,
   "id": "60fb1285",
   "metadata": {},
   "outputs": [],
   "source": [
    "# Stop the monitor\n",
    "monitor.stop()\n",
    "\n",
    "print(\"Monitoring stopped and cleaned up!\")"
   ]
  }
 ],
 "metadata": {
  "language_info": {
   "name": "python"
  }
 },
 "nbformat": 4,
 "nbformat_minor": 5
}
